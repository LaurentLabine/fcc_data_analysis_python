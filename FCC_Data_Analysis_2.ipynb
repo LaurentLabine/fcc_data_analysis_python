{
  "nbformat": 4,
  "nbformat_minor": 0,
  "metadata": {
    "colab": {
      "name": "FCC_Data_Analysis_2.ipynb",
      "provenance": [],
      "authorship_tag": "ABX9TyNz+/RzzBfeyoq/beAeKIuh",
      "include_colab_link": true
    },
    "kernelspec": {
      "name": "python3",
      "display_name": "Python 3"
    }
  },
  "cells": [
    {
      "cell_type": "markdown",
      "metadata": {
        "id": "view-in-github",
        "colab_type": "text"
      },
      "source": [
        "<a href=\"https://colab.research.google.com/github/LaurentLabine/fcc_data_analysis_python/blob/main/FCC_Data_Analysis_2.ipynb\" target=\"_parent\"><img src=\"https://colab.research.google.com/assets/colab-badge.svg\" alt=\"Open In Colab\"/></a>"
      ]
    },
    {
      "cell_type": "code",
      "metadata": {
        "id": "YWtJ0gM6zXWJ"
      },
      "source": [
        "import numpy as np\r\n",
        "from google.colab import files \r\n",
        "data_url = 'https://raw.githubusercontent.com/LaurentLabine/fcc_data_analysis_python/main/demographic.csv'"
      ],
      "execution_count": 5,
      "outputs": []
    },
    {
      "cell_type": "code",
      "metadata": {
        "colab": {
          "base_uri": "https://localhost:8080/"
        },
        "id": "uOuo1D_7YFgb",
        "outputId": "281e279a-db96-4ba8-84a4-bdcc9ae6b854"
      },
      "source": [
        "import pandas as pd \r\n",
        "import io \r\n",
        "\r\n",
        "df = pd.read_csv(data_url)\r\n",
        "print(df)"
      ],
      "execution_count": 6,
      "outputs": [
        {
          "output_type": "stream",
          "text": [
            "       age         workclass  fnlwgt  ... hours-per-week  native-country salary\n",
            "0       39         State-gov   77516  ...             40   United-States  <=50K\n",
            "1       50  Self-emp-not-inc   83311  ...             13   United-States  <=50K\n",
            "2       38           Private  215646  ...             40   United-States  <=50K\n",
            "3       53           Private  234721  ...             40   United-States  <=50K\n",
            "4       28           Private  338409  ...             40            Cuba  <=50K\n",
            "...    ...               ...     ...  ...            ...             ...    ...\n",
            "32556   27           Private  257302  ...             38   United-States  <=50K\n",
            "32557   40           Private  154374  ...             40   United-States   >50K\n",
            "32558   58           Private  151910  ...             40   United-States  <=50K\n",
            "32559   22           Private  201490  ...             20   United-States  <=50K\n",
            "32560   52      Self-emp-inc  287927  ...             40   United-States   >50K\n",
            "\n",
            "[32561 rows x 15 columns]\n"
          ],
          "name": "stdout"
        }
      ]
    },
    {
      "cell_type": "code",
      "metadata": {
        "colab": {
          "base_uri": "https://localhost:8080/"
        },
        "id": "tI_HVhOgauGU",
        "outputId": "acb5b583-702e-49de-9676-a174de73f69e"
      },
      "source": [
        "df['race'].value_counts()"
      ],
      "execution_count": 7,
      "outputs": [
        {
          "output_type": "execute_result",
          "data": {
            "text/plain": [
              "White                 27816\n",
              "Black                  3124\n",
              "Asian-Pac-Islander     1039\n",
              "Amer-Indian-Eskimo      311\n",
              "Other                   271\n",
              "Name: race, dtype: int64"
            ]
          },
          "metadata": {
            "tags": []
          },
          "execution_count": 7
        }
      ]
    },
    {
      "cell_type": "code",
      "metadata": {
        "colab": {
          "base_uri": "https://localhost:8080/"
        },
        "id": "PiSPuGiQbdre",
        "outputId": "9ce4ed7a-5b61-44ec-d48c-c8f8e401696e"
      },
      "source": [
        "df.loc[df['sex'] == \"Male\",\"age\"].mean()"
      ],
      "execution_count": 8,
      "outputs": [
        {
          "output_type": "execute_result",
          "data": {
            "text/plain": [
              "39.43354749885268"
            ]
          },
          "metadata": {
            "tags": []
          },
          "execution_count": 8
        }
      ]
    },
    {
      "cell_type": "code",
      "metadata": {
        "colab": {
          "base_uri": "https://localhost:8080/"
        },
        "id": "hOzgitpmlsfT",
        "outputId": "11fb6c92-90bb-4041-f9ef-89e73b75dc4f"
      },
      "source": [
        "len(df.loc[df['education'] == \"Bachelors\"].value_counts())/len(df.index)"
      ],
      "execution_count": 9,
      "outputs": [
        {
          "output_type": "execute_result",
          "data": {
            "text/plain": [
              "0.1643991277909155"
            ]
          },
          "metadata": {
            "tags": []
          },
          "execution_count": 9
        }
      ]
    },
    {
      "cell_type": "code",
      "metadata": {
        "colab": {
          "base_uri": "https://localhost:8080/"
        },
        "id": "6zJYM1uosAxY",
        "outputId": "95ae6c69-91fa-4f56-a63b-bd9c096b1fef"
      },
      "source": [
        "education_list = [\"Bachelors\",\"Masters\",\"Doctorate\"]\r\n",
        "higher_education = df.loc[(df['education'].isin(education_list))]\r\n",
        "len(higher_education.loc[higher_education[\"salary\"] == \">50K\"])/len(higher_education)\r\n"
      ],
      "execution_count": 10,
      "outputs": [
        {
          "output_type": "execute_result",
          "data": {
            "text/plain": [
              "0.46535843011613937"
            ]
          },
          "metadata": {
            "tags": []
          },
          "execution_count": 10
        }
      ]
    },
    {
      "cell_type": "code",
      "metadata": {
        "colab": {
          "base_uri": "https://localhost:8080/"
        },
        "id": "A3nOUPDWqA-A",
        "outputId": "d0d18d7a-a367-43be-9acd-739953c01c7f"
      },
      "source": [
        "lower_education = df.loc[~(df['education'].isin(education_list))]\r\n",
        "len(lower_education.loc[lower_education[\"salary\"] == \">50K\"])/len(lower_education)"
      ],
      "execution_count": 11,
      "outputs": [
        {
          "output_type": "execute_result",
          "data": {
            "text/plain": [
              "0.173713601914639"
            ]
          },
          "metadata": {
            "tags": []
          },
          "execution_count": 11
        }
      ]
    },
    {
      "cell_type": "code",
      "metadata": {
        "colab": {
          "base_uri": "https://localhost:8080/"
        },
        "id": "fGAeZ_cFxpPn",
        "outputId": "e9d88bd0-e985-4377-a309-390ad259d874"
      },
      "source": [
        "df[\"hours-per-week\"].min()"
      ],
      "execution_count": 12,
      "outputs": [
        {
          "output_type": "execute_result",
          "data": {
            "text/plain": [
              "1"
            ]
          },
          "metadata": {
            "tags": []
          },
          "execution_count": 12
        }
      ]
    },
    {
      "cell_type": "code",
      "metadata": {
        "colab": {
          "base_uri": "https://localhost:8080/"
        },
        "id": "uijpGXNrxp5s",
        "outputId": "834a48db-8944-4fd0-8f6a-c69b477b5f19"
      },
      "source": [
        "min_hours = df.loc[df[\"hours-per-week\"] == df[\"hours-per-week\"].min()]\r\n",
        "len(min_hours.loc[min_hours[\"salary\"] == \">50K\"])"
      ],
      "execution_count": 13,
      "outputs": [
        {
          "output_type": "execute_result",
          "data": {
            "text/plain": [
              "2"
            ]
          },
          "metadata": {
            "tags": []
          },
          "execution_count": 13
        }
      ]
    },
    {
      "cell_type": "code",
      "metadata": {
        "colab": {
          "base_uri": "https://localhost:8080/"
        },
        "id": "1bGgfsbM1CTm",
        "outputId": "e509a962-e873-4135-ebdc-b775af7df83e"
      },
      "source": [
        "df1 = df[[\"salary\", \"native-country\"]]\r\n",
        "df1.loc[df1[\"salary\"] == \">50K\"].value_counts(normalize=True).max()"
      ],
      "execution_count": 14,
      "outputs": [
        {
          "output_type": "execute_result",
          "data": {
            "text/plain": [
              "0.9145517153424308"
            ]
          },
          "metadata": {
            "tags": []
          },
          "execution_count": 14
        }
      ]
    },
    {
      "cell_type": "code",
      "metadata": {
        "colab": {
          "base_uri": "https://localhost:8080/"
        },
        "id": "n5W_59rA42aM",
        "outputId": "bae7e58b-e073-4da7-8ac3-5e7782df05cc"
      },
      "source": [
        "\r\n",
        "# dfref = df1[\"native-country\"].value_counts().reset_index()\r\n",
        "dfref = df[\"native-country\"].value_counts().reset_index()\r\n",
        "dfref.columns = [\"native-country\",\"nb\"]\r\n",
        "total_data_per_countries = dfref.set_index('native-country').T.to_dict(\"records\")[0]\r\n",
        "\r\n",
        "df_over_50k = df1.loc[df1[\"salary\"] == \">50K\"].value_counts().reset_index()\r\n",
        "del df_over_50k['salary']\r\n",
        "df_over_50k.columns = [\"native-country\",\"nb\"]\r\n",
        "over_50k = df_over_50k.set_index('native-country').T.to_dict(\"records\")[0]\r\n",
        "\r\n",
        "res = {}\r\n",
        "\r\n",
        "for country in total_data_per_countries:\r\n",
        "  if(country in over_50k):\r\n",
        "    res[country] = over_50k[country]/total_data_per_countries[country]\r\n",
        "\r\n",
        "new = pd.DataFrame.from_dict(res, orient ='index').reset_index()\r\n",
        "new.columns=[\"country\",\"wealth-%\"]\r\n",
        "\r\n",
        "print(new.loc[new['wealth-%'].idxmax()].to_dict())"
      ],
      "execution_count": 113,
      "outputs": [
        {
          "output_type": "stream",
          "text": [
            "{'country': 'Iran', 'wealth-%': 0.4186046511627907}\n"
          ],
          "name": "stdout"
        }
      ]
    },
    {
      "cell_type": "code",
      "metadata": {
        "colab": {
          "base_uri": "https://localhost:8080/",
          "height": 35
        },
        "id": "JLOqlQVKJZsE",
        "outputId": "97858105-1051-45c3-e058-973ef5f3c455"
      },
      "source": [
        "india_oc = df.loc[df['native-country'] == \"India\"]\r\n",
        "# print(india_oc)\r\n",
        "india_over_50k = india_oc.loc[india_oc[\"salary\"] == \">50K\"]\r\n",
        "india_over_50k_values = india_over_50k[\"occupation\"].value_counts().reset_index()\r\n",
        "india_over_50k_values.loc[india_over_50k_values['occupation'].idxmax(),[\"index\"]].to_dict()[\"index\"]\r\n",
        "# print(india_over_50k_values)"
      ],
      "execution_count": 112,
      "outputs": [
        {
          "output_type": "execute_result",
          "data": {
            "application/vnd.google.colaboratory.intrinsic+json": {
              "type": "string"
            },
            "text/plain": [
              "'Prof-specialty'"
            ]
          },
          "metadata": {
            "tags": []
          },
          "execution_count": 112
        }
      ]
    },
    {
      "cell_type": "code",
      "metadata": {
        "id": "yxKDmeTEJZuP"
      },
      "source": [
        ""
      ],
      "execution_count": null,
      "outputs": []
    },
    {
      "cell_type": "code",
      "metadata": {
        "id": "EPbGqRXRJZwv"
      },
      "source": [
        ""
      ],
      "execution_count": null,
      "outputs": []
    }
  ]
}